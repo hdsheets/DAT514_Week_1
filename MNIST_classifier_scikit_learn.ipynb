{
 "cells": [
  {
   "cell_type": "markdown",
   "metadata": {},
   "source": [
    "# Hands on Machine Learning, Building a Neural Net Model \n",
    "\n",
    "Chapter 3 from \"Hands on Maching Learning with Scikit-learn, Keras and Tensorflow\" by Geron\n",
    "\n",
    "Using the MNIST numbers set\n",
    "\n",
    "Using a simple perceptron neural net system\n",
    "\n",
    "Updated January 2023"
   ]
  },
  {
   "cell_type": "markdown",
   "metadata": {},
   "source": [
    "## Yes, you are being thrown into the deep end of the pool\n",
    "\n",
    "The lecture material for the coming week will start to explain this in more detail,  if you feel lost during tonight's \n",
    "exercise,  it's not your fault, but mine.\n",
    "\n",
    "Work through this exercise with your pair programming partner,  ask questions, talk to me, do some reading.\n",
    "\n",
    "You will be able to then relate what happened tonight to the lectures and to the next homework."
   ]
  },
  {
   "cell_type": "markdown",
   "metadata": {},
   "source": [
    "## Step 0:  load a classic example data set and understand how it is formated or structured\n",
    "\n",
    "This is a data prep phase\n",
    "\n",
    "Note- Python starts array indexes with zero every time!\n",
    "\n",
    "Second Note- I use the terms scikit-learn and the short version of the name sklearn as well.  This is the same package, we'll see a lot of it."
   ]
  },
  {
   "cell_type": "markdown",
   "metadata": {},
   "source": [
    "Load the data set,  same tactic as in the text\n",
    "\n",
    "This is using one of the standard datasets in ML,  the MNist numbers set.  We are using an scikit-learn (sklearn) utility to load it.\n",
    "\n",
    "Note the import statement here to load the package- this will run slowly the first on a given computer,  it download the data from a repository"
   ]
  },
  {
   "cell_type": "code",
   "execution_count": 1,
   "metadata": {
    "scrolled": true
   },
   "outputs": [
    {
     "data": {
      "text/plain": [
       "dict_keys(['data', 'target', 'frame', 'categories', 'feature_names', 'target_names', 'DESCR', 'details', 'url'])"
      ]
     },
     "execution_count": 1,
     "metadata": {},
     "output_type": "execute_result"
    }
   ],
   "source": [
    "from sklearn.datasets import fetch_openml\n",
    "mnist = fetch_openml('mnist_784', version=1)\n",
    "mnist.keys()"
   ]
  },
  {
   "cell_type": "markdown",
   "metadata": {},
   "source": [
    "Many software tools come with these built in datasets that are really helpful in learning\n",
    "how the tools work\n",
    "\n",
    "It is always important to understand how these example data sets are structured,  because it will be necessary to format new data into the form need for the software tool.  This is typically the most tedious, time consuming and annoying part of the process.\n",
    "\n",
    "When looking at examples,  we really need to understand the data formats.\n",
    "\n",
    "In many packages or libraries used in R and Python,  much of the package actually consists\n",
    "of definitions of storage classes or objects to make data handling easier for the calculations done in the package- so you will see new storage classes constantly,  be aware of them"
   ]
  },
  {
   "cell_type": "code",
   "execution_count": 2,
   "metadata": {},
   "outputs": [
    {
     "data": {
      "text/plain": [
       "\u001b[1;31mType:\u001b[0m        Bunch\n",
       "\u001b[1;31mString form:\u001b[0m\n",
       "{'data':        pixel1  pixel2  pixel3  pixel4  pixel5  pixel6  pixel7  pixel8  pixel9  \\\n",
       "           0       <...> :09', 'md5_checksum': '0298d579eb1b86163de7723944c7e495'}, 'url': 'https://www.openml.org/d/554'}\n",
       "\u001b[1;31mLength:\u001b[0m      9\n",
       "\u001b[1;31mFile:\u001b[0m        c:\\users\\hdavi\\anaconda3\\envs\\tf\\lib\\site-packages\\sklearn\\utils\\__init__.py\n",
       "\u001b[1;31mDocstring:\u001b[0m  \n",
       "Container object exposing keys as attributes.\n",
       "\n",
       "Bunch objects are sometimes used as an output for functions and methods.\n",
       "They extend dictionaries by enabling values to be accessed by key,\n",
       "`bunch[\"value_key\"]`, or by an attribute, `bunch.value_key`.\n",
       "\n",
       "Examples\n",
       "--------\n",
       ">>> from sklearn.utils import Bunch\n",
       ">>> b = Bunch(a=1, b=2)\n",
       ">>> b['b']\n",
       "2\n",
       ">>> b.b\n",
       "2\n",
       ">>> b.a = 3\n",
       ">>> b['a']\n",
       "3\n",
       ">>> b.c = 6\n",
       ">>> b['c']\n",
       "6\n"
      ]
     },
     "metadata": {},
     "output_type": "display_data"
    }
   ],
   "source": [
    "?mnist"
   ]
  },
  {
   "cell_type": "markdown",
   "metadata": {},
   "source": [
    "# Question/Action\n",
    "\n",
    "Okay, a bunch is kind of an odd object\n",
    "\n",
    "How does it appear to relate to a database like MongoDB?"
   ]
  },
  {
   "cell_type": "code",
   "execution_count": null,
   "metadata": {},
   "outputs": [],
   "source": []
  },
  {
   "cell_type": "markdown",
   "metadata": {},
   "source": [
    "What does the data look like?   Here was assign the data to X and the target (aka label) to y"
   ]
  },
  {
   "cell_type": "code",
   "execution_count": 3,
   "metadata": {},
   "outputs": [
    {
     "name": "stdout",
     "output_type": "stream",
     "text": [
      "(70000, 784)\n",
      "(70000,)\n"
     ]
    }
   ],
   "source": [
    "X,y=mnist[\"data\"],mnist[\"target\"]\n",
    "print(X.shape)\n",
    "print (y.shape)"
   ]
  },
  {
   "cell_type": "code",
   "execution_count": 4,
   "metadata": {},
   "outputs": [
    {
     "data": {
      "text/plain": [
       "\u001b[1;31mType:\u001b[0m        DataFrame\n",
       "\u001b[1;31mString form:\u001b[0m\n",
       "pixel1  pixel2  pixel3  pixel4  pixel5  pixel6  pixel7  pixel8  pixel9  \\\n",
       "           0         0.0    <...>       0.0\n",
       "           69999       0.0       0.0       0.0       0.0       0.0\n",
       "           \n",
       "           [70000 rows x 784 columns]\n",
       "\u001b[1;31mLength:\u001b[0m      70000\n",
       "\u001b[1;31mFile:\u001b[0m        c:\\users\\hdavi\\anaconda3\\envs\\tf\\lib\\site-packages\\pandas\\core\\frame.py\n",
       "\u001b[1;31mDocstring:\u001b[0m  \n",
       "Two-dimensional, size-mutable, potentially heterogeneous tabular data.\n",
       "\n",
       "Data structure also contains labeled axes (rows and columns).\n",
       "Arithmetic operations align on both row and column labels. Can be\n",
       "thought of as a dict-like container for Series objects. The primary\n",
       "pandas data structure.\n",
       "\n",
       "Parameters\n",
       "----------\n",
       "data : ndarray (structured or homogeneous), Iterable, dict, or DataFrame\n",
       "    Dict can contain Series, arrays, constants, dataclass or list-like objects. If\n",
       "    data is a dict, column order follows insertion-order.\n",
       "\n",
       "    .. versionchanged:: 0.25.0\n",
       "       If data is a list of dicts, column order follows insertion-order.\n",
       "\n",
       "index : Index or array-like\n",
       "    Index to use for resulting frame. Will default to RangeIndex if\n",
       "    no indexing information part of input data and no index provided.\n",
       "columns : Index or array-like\n",
       "    Column labels to use for resulting frame when data does not have them,\n",
       "    defaulting to RangeIndex(0, 1, 2, ..., n). If data contains column labels,\n",
       "    will perform column selection instead.\n",
       "dtype : dtype, default None\n",
       "    Data type to force. Only a single dtype is allowed. If None, infer.\n",
       "copy : bool or None, default None\n",
       "    Copy data from inputs.\n",
       "    For dict data, the default of None behaves like ``copy=True``.  For DataFrame\n",
       "    or 2d ndarray input, the default of None behaves like ``copy=False``.\n",
       "\n",
       "    .. versionchanged:: 1.3.0\n",
       "\n",
       "See Also\n",
       "--------\n",
       "DataFrame.from_records : Constructor from tuples, also record arrays.\n",
       "DataFrame.from_dict : From dicts of Series, arrays, or dicts.\n",
       "read_csv : Read a comma-separated values (csv) file into DataFrame.\n",
       "read_table : Read general delimited file into DataFrame.\n",
       "read_clipboard : Read text from clipboard into DataFrame.\n",
       "\n",
       "Examples\n",
       "--------\n",
       "Constructing DataFrame from a dictionary.\n",
       "\n",
       ">>> d = {'col1': [1, 2], 'col2': [3, 4]}\n",
       ">>> df = pd.DataFrame(data=d)\n",
       ">>> df\n",
       "   col1  col2\n",
       "0     1     3\n",
       "1     2     4\n",
       "\n",
       "Notice that the inferred dtype is int64.\n",
       "\n",
       ">>> df.dtypes\n",
       "col1    int64\n",
       "col2    int64\n",
       "dtype: object\n",
       "\n",
       "To enforce a single dtype:\n",
       "\n",
       ">>> df = pd.DataFrame(data=d, dtype=np.int8)\n",
       ">>> df.dtypes\n",
       "col1    int8\n",
       "col2    int8\n",
       "dtype: object\n",
       "\n",
       "Constructing DataFrame from numpy ndarray:\n",
       "\n",
       ">>> df2 = pd.DataFrame(np.array([[1, 2, 3], [4, 5, 6], [7, 8, 9]]),\n",
       "...                    columns=['a', 'b', 'c'])\n",
       ">>> df2\n",
       "   a  b  c\n",
       "0  1  2  3\n",
       "1  4  5  6\n",
       "2  7  8  9\n",
       "\n",
       "Constructing DataFrame from a numpy ndarray that has labeled columns:\n",
       "\n",
       ">>> data = np.array([(1, 2, 3), (4, 5, 6), (7, 8, 9)],\n",
       "...                 dtype=[(\"a\", \"i4\"), (\"b\", \"i4\"), (\"c\", \"i4\")])\n",
       ">>> df3 = pd.DataFrame(data, columns=['c', 'a'])\n",
       "...\n",
       ">>> df3\n",
       "   c  a\n",
       "0  3  1\n",
       "1  6  4\n",
       "2  9  7\n",
       "\n",
       "Constructing DataFrame from dataclass:\n",
       "\n",
       ">>> from dataclasses import make_dataclass\n",
       ">>> Point = make_dataclass(\"Point\", [(\"x\", int), (\"y\", int)])\n",
       ">>> pd.DataFrame([Point(0, 0), Point(0, 3), Point(2, 3)])\n",
       "   x  y\n",
       "0  0  0\n",
       "1  0  3\n",
       "2  2  3\n"
      ]
     },
     "metadata": {},
     "output_type": "display_data"
    }
   ],
   "source": [
    "?X\n"
   ]
  },
  {
   "cell_type": "markdown",
   "metadata": {},
   "source": [
    "It is in linear arrays of 784 values, these are 28 by 28 images, stored as linear vectors.    Each line is a 28x28 image black and white image.    \n",
    "\n",
    "We have 70,000 data points (images) one per line in the variable X, X are the predictor variables for this system, which are actually images.\n",
    "\n",
    "Y are the targets or labels\n",
    "\n",
    "\n",
    "Use the magic command  (which is Jupyter notebook command, rather than a Python command)  %matplotlib inline,   which causes the Python matplotlib package functions to plot to the Jupyter Notebook - you will want to use this command a lot."
   ]
  },
  {
   "cell_type": "code",
   "execution_count": 5,
   "metadata": {},
   "outputs": [],
   "source": [
    "%matplotlib inline"
   ]
  },
  {
   "cell_type": "markdown",
   "metadata": {},
   "source": [
    "We'll plot a couple of the images, by reshaping them to 28 x 28 matrices and then using imshow to plot them\n",
    "\n",
    "There is a convention for storing images in rows like this.\n",
    "\n",
    "The image we have here are black and white and have only one color channel (black to white).   Color images have three channels (aka layers),  R, G, B.    \n",
    "\n",
    "Images are stored in 3 D matrices,   usually as indexed as [channel, row, column]\n",
    "\n",
    "For the MNIST digit images we have images that are 1 x 28 x 28\n",
    "\n",
    "Below we convert on image on a row of the data matrix X into a 28 by 28 matrix we can plot\n",
    "\n",
    "\n",
    "See:\n",
    "\n",
    "https://machinelearningmastery.com/a-gentle-introduction-to-channels-first-and-channels-last-image-formats-for-deep-learning/\n",
    "\n",
    "Note the use of the reshape function,  were reshaped a 1 by 784 linear structure into a\n",
    "28 by 28 matrix.   There are a number of ways of doing this"
   ]
  },
  {
   "cell_type": "code",
   "execution_count": 10,
   "metadata": {},
   "outputs": [
    {
     "data": {
      "image/png": "[encoded data removed]",
      "text/plain": [
       "<Figure size 640x480 with 1 Axes>"
      ]
     },
     "metadata": {},
     "output_type": "display_data"
    }
   ],
   "source": [
    "import matplotlib as mpl\n",
    "import matplotlib.pyplot as plt\n",
    "\n",
    "# X is a pandas data frame,   X.iloc[0] is a pandas series containing\n",
    "#  row zero of the dataframe, we then force it to be a numpy array, which can be reshaped\n",
    "# into a matrix\n",
    "\n",
    "some_digit = X.iloc[0].to_numpy()\n",
    "some_digit_image = some_digit.reshape(28, 28)\n",
    "\n",
    "plt.imshow(some_digit_image, cmap=\"binary\")\n",
    "plt.axis(\"off\")\n",
    "plt.show()"
   ]
  },
  {
   "cell_type": "markdown",
   "metadata": {},
   "source": [
    "What is the target for this image?"
   ]
  },
  {
   "cell_type": "code",
   "execution_count": 11,
   "metadata": {},
   "outputs": [
    {
     "data": {
      "text/plain": [
       "'5'"
      ]
     },
     "execution_count": 11,
     "metadata": {},
     "output_type": "execute_result"
    }
   ],
   "source": [
    "y[0]"
   ]
  },
  {
   "cell_type": "markdown",
   "metadata": {
    "tags": []
   },
   "source": [
    "# Question/Action\n",
    "\n",
    "Use google to look up the reshape function\n",
    "\n",
    "What options are there on how to carry out the reshaping?   copy the cell above that does\n",
    "the reshaping and plotting and use a different option for reshaping.  What happens?"
   ]
  },
  {
   "cell_type": "code",
   "execution_count": null,
   "metadata": {},
   "outputs": [],
   "source": [
    "# show variation in reshaping here"
   ]
  },
  {
   "cell_type": "markdown",
   "metadata": {},
   "source": [
    "At this point,  make some changes to look at some other images,   pick and image number at random and plot it.\n",
    "\n"
   ]
  },
  {
   "cell_type": "code",
   "execution_count": null,
   "metadata": {},
   "outputs": [],
   "source": []
  },
  {
   "cell_type": "markdown",
   "metadata": {},
   "source": [
    "Notice here that the target or label,  y,  is an integer value.\n",
    "\n",
    "mnist[\"feature_names\"] should show us the names associated with the integer coded target numbers,   print out the feature names"
   ]
  },
  {
   "cell_type": "code",
   "execution_count": null,
   "metadata": {},
   "outputs": [],
   "source": []
  },
  {
   "cell_type": "markdown",
   "metadata": {},
   "source": [
    "This is a manual split of the data into a training set and a test set.  We will only use the test set at the very end to look\n",
    "the performance of the system.  This is common in machine learning, using a test set to characterize how well the system works.   \n",
    "\n",
    "Here the first 60,000 points are used as a training set\n",
    "\n",
    "Note: Using the first 60,000 as training and the rest as a test is not a good way to do this.  The data should be randomly split, not sequentially- think about why--\n",
    "\n",
    "Later, we will see some better tools for creating test and train sets"
   ]
  },
  {
   "cell_type": "code",
   "execution_count": 12,
   "metadata": {},
   "outputs": [],
   "source": [
    "X_train, X_test, y_train, y_test = X[:60000], X[60000:], y[:60000], y[60000:]"
   ]
  },
  {
   "cell_type": "markdown",
   "metadata": {},
   "source": [
    "We are doing a binary classification,  so the outcome is true or false\n",
    "\n",
    "We could do a more complex classification,  into all 10 categories, but that's a more complex task\n",
    "\n",
    "We will create a neural net that can recognize the image of a number \"5\"\n",
    "\n",
    "the label or target y is currently a set of numbers 0 to 9,   we want a set of true and false labels, indicating wheter the object is a '5' or not"
   ]
  },
  {
   "cell_type": "code",
   "execution_count": 13,
   "metadata": {},
   "outputs": [],
   "source": [
    "y_train_5 = (y_train == '5')  # True for all 5s, False for all other digits\n",
    "y_test_5 = (y_test == '5')"
   ]
  },
  {
   "cell_type": "markdown",
   "metadata": {},
   "source": [
    "## Part 1: Construction of a neural net classification Model\n",
    "\n",
    "Followed by model training and then a bit of a look at the object that holds the classifier model"
   ]
  },
  {
   "cell_type": "markdown",
   "metadata": {},
   "source": [
    "We are going to use a neural net,   a perceptron classifier from sklearn\n",
    "\n",
    "A number of issues to discuss here-\n",
    "\n",
    "a.) This is a simple Machine Learning Classifier,  using 3 hidden layers, each with 20, 10 and 5 neurons respectively.  Note that input layer must have 784 neurons to handle the input data, while the output layer will have 2, the probabilities of each output category, true or false\n",
    "    \n",
    "b.) MLPClassifier is a more limited approach than using Tensorflow, but it does work reasonable\n",
    "\n",
    "Some details:\n",
    "\n",
    "The MLPClassifier sets the number of input neurons to be equal to the number of variables in the input data,  in this case we will have 784 input neurons\n",
    "\n",
    "The list of hidden layer sizes input to the function indicates we want 3 hidden layers of sizes 20,10,5 neurons respectively.  I got better performance using 100,50, 20 or so,  you may want to try altering or tinkering with the number of neurons per layer or the number of layers or both.   The number of neurons and layers are called \"hyper-parameters\" of the model.   Training will take much longer with a bigger network.\n",
    "\n",
    "The output layer of the net work will have a number of outputs equal to the number of classes used.\n",
    "\n",
    "The verbose=True entry indicates that the training procedure will give us an a constant updating on progress,  indicating the \"loss\" which is the value of the objective or error function being used.  Most classifiers use the cross-entropy objective (loss) function,   which is what is being used here\n",
    "\n",
    "The solver is \"adam\" which is one implementation of a gradient descent, \n",
    "\n",
    "alpha is an L2 regularization parameter- more on regularization later- this is meant to reduce overfitting problems\n",
    "\n",
    "warm start=False indicates the training starts from a new random set of parameters (weights) instead of starting from the results of the last training operation by the member function fit.\n",
    "\n",
    "The learning rate,  tolerance and other parameters are all set to the default values,  see the sklearn manual below for more information\n",
    "\n",
    "\n",
    "There is a nice discussion of the model at\n",
    "\n",
    "https://scikit-learn.org/stable/modules/neural_networks_supervised.html\n",
    "\n",
    "Look at the website above before you run the model"
   ]
  },
  {
   "cell_type": "markdown",
   "metadata": {},
   "source": [
    "Here we create an instance of a classifier with the desired structure and operating parameters\n",
    "\n",
    "We then fit the model to the training predictors X_train and the labels (or targets) y_train_5\n",
    "\n",
    "Sklearn models all work this way\n",
    "\n",
    "The fitting process will run rather slowly,  it will typically end at roughly 100 iterations,   maybe 2 to 5 minutes run time at maximum"
   ]
  },
  {
   "cell_type": "code",
   "execution_count": 14,
   "metadata": {
    "scrolled": true
   },
   "outputs": [
    {
     "name": "stdout",
     "output_type": "stream",
     "text": [
      "Iteration 1, loss = 0.27028725\n",
      "Iteration 2, loss = 0.08038020\n",
      "Iteration 3, loss = 0.05730453\n",
      "Iteration 4, loss = 0.04481164\n",
      "Iteration 5, loss = 0.03709973\n",
      "Iteration 6, loss = 0.03257554\n",
      "Iteration 7, loss = 0.02849133\n",
      "Iteration 8, loss = 0.02612611\n",
      "Iteration 9, loss = 0.02331228\n",
      "Iteration 10, loss = 0.02080288\n",
      "Iteration 11, loss = 0.02111216\n",
      "Iteration 12, loss = 0.01944051\n",
      "Iteration 13, loss = 0.01709165\n",
      "Iteration 14, loss = 0.01835985\n",
      "Iteration 15, loss = 0.01533054\n",
      "Iteration 16, loss = 0.01499016\n",
      "Iteration 17, loss = 0.01485069\n",
      "Iteration 18, loss = 0.01697583\n",
      "Iteration 19, loss = 0.01405033\n",
      "Iteration 20, loss = 0.01243199\n",
      "Iteration 21, loss = 0.01452743\n",
      "Iteration 22, loss = 0.01135043\n",
      "Iteration 23, loss = 0.01008191\n",
      "Iteration 24, loss = 0.01181225\n",
      "Iteration 25, loss = 0.01045306\n",
      "Iteration 26, loss = 0.01095657\n",
      "Iteration 27, loss = 0.00991001\n",
      "Iteration 28, loss = 0.00824109\n",
      "Iteration 29, loss = 0.00800536\n",
      "Iteration 30, loss = 0.00719707\n",
      "Iteration 31, loss = 0.01074064\n",
      "Iteration 32, loss = 0.01073882\n",
      "Iteration 33, loss = 0.01058444\n",
      "Iteration 34, loss = 0.00736433\n",
      "Iteration 35, loss = 0.00608122\n",
      "Iteration 36, loss = 0.00648380\n",
      "Iteration 37, loss = 0.00648603\n",
      "Iteration 38, loss = 0.00759694\n",
      "Iteration 39, loss = 0.00590400\n",
      "Iteration 40, loss = 0.00482853\n",
      "Iteration 41, loss = 0.00752076\n",
      "Iteration 42, loss = 0.00844748\n",
      "Iteration 43, loss = 0.00529304\n",
      "Iteration 44, loss = 0.00405720\n",
      "Iteration 45, loss = 0.00355563\n",
      "Iteration 46, loss = 0.00442409\n",
      "Iteration 47, loss = 0.00278504\n",
      "Iteration 48, loss = 0.00477225\n",
      "Iteration 49, loss = 0.00631057\n",
      "Iteration 50, loss = 0.00595337\n",
      "Iteration 51, loss = 0.00371554\n",
      "Iteration 52, loss = 0.00191188\n",
      "Iteration 53, loss = 0.00285186\n",
      "Iteration 54, loss = 0.00219001\n",
      "Iteration 55, loss = 0.00762041\n",
      "Iteration 56, loss = 0.00485731\n",
      "Iteration 57, loss = 0.00263198\n",
      "Iteration 58, loss = 0.00247011\n",
      "Iteration 59, loss = 0.00314173\n",
      "Iteration 60, loss = 0.00417176\n",
      "Iteration 61, loss = 0.00134527\n",
      "Iteration 62, loss = 0.00266778\n",
      "Iteration 63, loss = 0.00209140\n",
      "Iteration 64, loss = 0.00485182\n",
      "Iteration 65, loss = 0.00146218\n",
      "Iteration 66, loss = 0.00164894\n",
      "Iteration 67, loss = 0.00476448\n",
      "Iteration 68, loss = 0.00169591\n",
      "Iteration 69, loss = 0.00084496\n",
      "Iteration 70, loss = 0.00143049\n",
      "Iteration 71, loss = 0.00393589\n",
      "Iteration 72, loss = 0.00320469\n",
      "Iteration 73, loss = 0.00294907\n",
      "Iteration 74, loss = 0.00171817\n",
      "Iteration 75, loss = 0.00123360\n",
      "Iteration 76, loss = 0.00270809\n",
      "Iteration 77, loss = 0.00071433\n",
      "Iteration 78, loss = 0.00284758\n",
      "Iteration 79, loss = 0.00412627\n",
      "Iteration 80, loss = 0.00172233\n",
      "Iteration 81, loss = 0.00150200\n",
      "Iteration 82, loss = 0.00119985\n",
      "Iteration 83, loss = 0.00177922\n",
      "Iteration 84, loss = 0.00267218\n",
      "Iteration 85, loss = 0.00186634\n",
      "Iteration 86, loss = 0.00041663\n",
      "Iteration 87, loss = 0.00016884\n",
      "Iteration 88, loss = 0.00012985\n",
      "Iteration 89, loss = 0.00011292\n",
      "Iteration 90, loss = 0.00009356\n",
      "Iteration 91, loss = 0.00007989\n",
      "Iteration 92, loss = 0.00007071\n",
      "Iteration 93, loss = 0.00005343\n",
      "Iteration 94, loss = 0.00228835\n",
      "Iteration 95, loss = 0.00865834\n",
      "Iteration 96, loss = 0.00187574\n",
      "Iteration 97, loss = 0.00056528\n",
      "Iteration 98, loss = 0.00213467\n",
      "Training loss did not improve more than tol=0.000100 for 10 consecutive epochs. Stopping.\n"
     ]
    },
    {
     "data": {
      "text/plain": [
       "MLPClassifier(alpha=1e-05, hidden_layer_sizes=(20, 10, 5), max_iter=500,\n",
       "              random_state=1, verbose=True)"
      ]
     },
     "execution_count": 14,
     "metadata": {},
     "output_type": "execute_result"
    }
   ],
   "source": [
    "from sklearn.neural_network import MLPClassifier\n",
    "clf = MLPClassifier(solver='adam', alpha=1e-5, random_state=1, max_iter=500,hidden_layer_sizes=(20,10,5), verbose=True, warm_start=False)\n",
    "\n",
    "clf.fit(X_train, y_train_5)\n"
   ]
  },
  {
   "cell_type": "markdown",
   "metadata": {},
   "source": [
    "clf is an object,  an instance of the class MLPClassifier,   which has a lot of stored data, like the model structure, \n",
    "all the fitted parameter values\n",
    "\n",
    "We can use the dir() member function of clf to see what member functions and variables are within the clf object"
   ]
  },
  {
   "cell_type": "code",
   "execution_count": 15,
   "metadata": {},
   "outputs": [
    {
     "data": {
      "text/plain": [
       "['__abstractmethods__',\n",
       " '__class__',\n",
       " '__delattr__',\n",
       " '__dict__',\n",
       " '__dir__',\n",
       " '__doc__',\n",
       " '__eq__',\n",
       " '__format__',\n",
       " '__ge__',\n",
       " '__getattribute__',\n",
       " '__getstate__',\n",
       " '__gt__',\n",
       " '__hash__',\n",
       " '__init__',\n",
       " '__init_subclass__',\n",
       " '__le__',\n",
       " '__lt__',\n",
       " '__module__',\n",
       " '__ne__',\n",
       " '__new__',\n",
       " '__reduce__',\n",
       " '__reduce_ex__',\n",
       " '__repr__',\n",
       " '__setattr__',\n",
       " '__setstate__',\n",
       " '__sizeof__',\n",
       " '__str__',\n",
       " '__subclasshook__',\n",
       " '__weakref__',\n",
       " '_abc_impl',\n",
       " '_backprop',\n",
       " '_check_feature_names',\n",
       " '_check_n_features',\n",
       " '_check_solver',\n",
       " '_compute_loss_grad',\n",
       " '_estimator_type',\n",
       " '_fit',\n",
       " '_fit_lbfgs',\n",
       " '_fit_stochastic',\n",
       " '_forward_pass',\n",
       " '_forward_pass_fast',\n",
       " '_get_param_names',\n",
       " '_get_tags',\n",
       " '_init_coef',\n",
       " '_initialize',\n",
       " '_label_binarizer',\n",
       " '_loss_grad_lbfgs',\n",
       " '_more_tags',\n",
       " '_no_improvement_count',\n",
       " '_optimizer',\n",
       " '_random_state',\n",
       " '_repr_html_',\n",
       " '_repr_html_inner',\n",
       " '_repr_mimebundle_',\n",
       " '_unpack',\n",
       " '_update_no_improvement_count',\n",
       " '_validate_data',\n",
       " '_validate_hyperparameters',\n",
       " '_validate_input',\n",
       " 'activation',\n",
       " 'alpha',\n",
       " 'batch_size',\n",
       " 'best_loss_',\n",
       " 'beta_1',\n",
       " 'beta_2',\n",
       " 'classes_',\n",
       " 'coefs_',\n",
       " 'early_stopping',\n",
       " 'epsilon',\n",
       " 'feature_names_in_',\n",
       " 'fit',\n",
       " 'get_params',\n",
       " 'hidden_layer_sizes',\n",
       " 'intercepts_',\n",
       " 'learning_rate',\n",
       " 'learning_rate_init',\n",
       " 'loss',\n",
       " 'loss_',\n",
       " 'loss_curve_',\n",
       " 'max_fun',\n",
       " 'max_iter',\n",
       " 'momentum',\n",
       " 'n_features_in_',\n",
       " 'n_iter_',\n",
       " 'n_iter_no_change',\n",
       " 'n_layers_',\n",
       " 'n_outputs_',\n",
       " 'nesterovs_momentum',\n",
       " 'out_activation_',\n",
       " 'partial_fit',\n",
       " 'power_t',\n",
       " 'predict',\n",
       " 'predict_log_proba',\n",
       " 'predict_proba',\n",
       " 'random_state',\n",
       " 'score',\n",
       " 'set_params',\n",
       " 'shuffle',\n",
       " 'solver',\n",
       " 't_',\n",
       " 'tol',\n",
       " 'validation_fraction',\n",
       " 'verbose',\n",
       " 'warm_start']"
      ]
     },
     "execution_count": 15,
     "metadata": {},
     "output_type": "execute_result"
    }
   ],
   "source": [
    "dir(clf)"
   ]
  },
  {
   "cell_type": "markdown",
   "metadata": {},
   "source": [
    "All sklearn model classes have a fit() and a predict() member function,  we can predict values using a trained model\n",
    "using the predict member function"
   ]
  },
  {
   "cell_type": "markdown",
   "metadata": {},
   "source": [
    "# Question/Action\n",
    "\n",
    "What type of object is X_test?\n",
    "\n",
    "I had to change the code in the line below\n",
    "\n",
    "    clf.predict(X_test.iloc[:10,:])\n",
    "\n",
    "When I ran it in January 2022,  it was \n",
    "\n",
    "    clf.predict(X_test[:10,:])\n",
    "\n",
    "Why would code that ran fine in 2022 no longer work in 2023"
   ]
  },
  {
   "cell_type": "code",
   "execution_count": null,
   "metadata": {},
   "outputs": [],
   "source": [
    "# run code here - what type of data is X_test\n",
    "\n",
    "\n",
    "# why doesn't X_test[:10,:] work, but X_test.iloc[:10,:] does?   "
   ]
  },
  {
   "cell_type": "markdown",
   "metadata": {},
   "source": [
    "# Predictions\n",
    "\n",
    "We have trained the model in clf, we will now use it to predict the class of our\n",
    "first 10 test images"
   ]
  },
  {
   "cell_type": "code",
   "execution_count": 16,
   "metadata": {},
   "outputs": [
    {
     "data": {
      "text/plain": [
       "array([False, False, False, False, False, False, False, False,  True,\n",
       "       False])"
      ]
     },
     "execution_count": 16,
     "metadata": {},
     "output_type": "execute_result"
    }
   ],
   "source": [
    "clf.predict(X_test.iloc[:10,:])"
   ]
  },
  {
   "cell_type": "markdown",
   "metadata": {},
   "source": [
    "Notice that clf.predict gave us true/false values,   assignments to specific categories of the number equaling 5 or not\n",
    "\n",
    "These are some options, we can get a probability estimate"
   ]
  },
  {
   "cell_type": "code",
   "execution_count": 17,
   "metadata": {},
   "outputs": [
    {
     "data": {
      "text/plain": [
       "array([[1.00000000e+00, 7.25855724e-13],\n",
       "       [1.00000000e+00, 1.30368088e-10],\n",
       "       [1.00000000e+00, 1.51524955e-26],\n",
       "       [1.00000000e+00, 7.45491992e-14],\n",
       "       [1.00000000e+00, 8.95756836e-22],\n",
       "       [1.00000000e+00, 1.17290436e-39],\n",
       "       [9.99999897e-01, 1.03174047e-07],\n",
       "       [9.98365079e-01, 1.63492141e-03],\n",
       "       [2.64713679e-03, 9.97352863e-01],\n",
       "       [1.00000000e+00, 3.15895442e-18]])"
      ]
     },
     "execution_count": 17,
     "metadata": {},
     "output_type": "execute_result"
    }
   ],
   "source": [
    "clf.predict_proba(X_test.iloc[:10,:])"
   ]
  },
  {
   "cell_type": "markdown",
   "metadata": {},
   "source": [
    "we can now look at the number of iterations used in fitting the model"
   ]
  },
  {
   "cell_type": "code",
   "execution_count": 18,
   "metadata": {},
   "outputs": [
    {
     "data": {
      "text/plain": [
       "98"
      ]
     },
     "execution_count": 18,
     "metadata": {},
     "output_type": "execute_result"
    }
   ],
   "source": [
    "clf.n_iter_\n",
    "\n"
   ]
  },
  {
   "cell_type": "markdown",
   "metadata": {},
   "source": [
    "# Question\n",
    "Find out what the activation function was,   what the tolerance value was, and the learning rate was"
   ]
  },
  {
   "cell_type": "code",
   "execution_count": null,
   "metadata": {},
   "outputs": [],
   "source": []
  },
  {
   "cell_type": "code",
   "execution_count": null,
   "metadata": {},
   "outputs": [],
   "source": [
    "# Question\n",
    "How many features where there in the input layer?   is this what you expected?\n",
    "\n"
   ]
  },
  {
   "cell_type": "code",
   "execution_count": null,
   "metadata": {},
   "outputs": [],
   "source": []
  },
  {
   "cell_type": "markdown",
   "metadata": {},
   "source": [
    "# Part 2:  How well does this classifier actually work?\n",
    "\n",
    "We will use a number of different types of measures and metrics of performance from sklearn"
   ]
  },
  {
   "cell_type": "markdown",
   "metadata": {},
   "source": [
    "Create a second version of the classifier, but with the verbose option set to false, so it will not show the\n",
    "change in the cross entropy as the network is trained.\n",
    "\n"
   ]
  },
  {
   "cell_type": "code",
   "execution_count": 19,
   "metadata": {},
   "outputs": [],
   "source": [
    "silent_clf = MLPClassifier(solver='adam',activation='relu', alpha=1e-5, random_state=1, max_iter=500,hidden_layer_sizes=(20,20,5), verbose=False, warm_start=True)"
   ]
  },
  {
   "cell_type": "markdown",
   "metadata": {},
   "source": [
    "Below is a manual cross validation to look at the correct classification rate\n",
    "\n",
    "We want to estimate how likely the model (predictor) is going to be if we use it on new images\n",
    "\n",
    "What we are doing is splitting the data into 3 sections (my_split=3) and training silent_clf on 2/3 of the data and testing how well it does on the remaining sections of the data.  The remaining 1/3 the model was not trained on is called the validation data\n",
    "\n",
    "The performance of the method on the validation data is called a crossed validation estimate.  If we estimated the performance of the model on the training data, that would be called a resubstitution estimate of the performance.     \n",
    "\n",
    "If we had totally new, unused data that we use to estimate performance, that is called a test set estimate.\n",
    "\n",
    "Note- this requires 3 separate fittings of the model, it will be slow"
   ]
  },
  {
   "cell_type": "code",
   "execution_count": 20,
   "metadata": {},
   "outputs": [
    {
     "name": "stdout",
     "output_type": "stream",
     "text": [
      "0.9913\n",
      "0.99325\n",
      "0.99185\n"
     ]
    }
   ],
   "source": [
    "from sklearn.model_selection import StratifiedKFold\n",
    "from sklearn.base import clone\n",
    "\n",
    "my_splits=3\n",
    "\n",
    "# this splits the data into the training \"fold\" and the test fold\n",
    "\n",
    "skfolds = StratifiedKFold(n_splits=my_splits,shuffle=True, random_state=42)\n",
    "\n",
    "\n",
    "for train_index, test_index in skfolds.split(X_train, y_train_5):\n",
    "    # make a clone of the model\n",
    "    clone_clf = clone(silent_clf)\n",
    "    #set up the test and train sets from the fold or split of the data\n",
    "    X_train_folds = X_train.iloc[train_index]\n",
    "    y_train_folds = y_train_5[train_index]\n",
    "    X_test_fold = X_train.iloc[test_index]\n",
    "    y_test_fold = y_train_5[test_index]\n",
    "    # fit the cloned model to the data and predict the outcomes for the training set\n",
    "    clone_clf.fit(X_train_folds, y_train_folds)\n",
    "    y_pred = clone_clf.predict(X_test_fold)\n",
    "    # compute the number of times the the predicted class was correct\n",
    "    n_correct = sum(y_pred == y_test_fold)\n",
    "    print(n_correct / len(y_pred)) "
   ]
  },
  {
   "cell_type": "markdown",
   "metadata": {},
   "source": [
    "We are up around 99% or higher rate of correct assignments.  Pretty cool.\n",
    "\n",
    "But this is an unbalanced set,  10% of the data are \"5\"s,   90%  are not\n",
    "\n",
    "If we simply made a predictor that always returned \"False\" it would be 90% correct"
   ]
  },
  {
   "cell_type": "markdown",
   "metadata": {},
   "source": [
    "Here is a better way to do this, using a built-in function to do the cross validation, using a built-in sklearn function \n",
    "\n",
    "Notice here a whole set of predictions created by the model,  all in one function call"
   ]
  },
  {
   "cell_type": "code",
   "execution_count": 21,
   "metadata": {},
   "outputs": [],
   "source": [
    "from sklearn.model_selection import cross_val_predict\n",
    "\n",
    "y_train_pred = cross_val_predict(silent_clf, X_train, y_train_5, cv=3)"
   ]
  },
  {
   "cell_type": "markdown",
   "metadata": {},
   "source": [
    "# Question\n",
    "\n",
    "In general,   resubsitution rates are untrustworthy.  Why?\n",
    "\n",
    "We prefer independent test results over cross validation estimates,  why is this?\n",
    "\n",
    "Why are cross validation estimates easier to obtain and work with?"
   ]
  },
  {
   "cell_type": "markdown",
   "metadata": {},
   "source": [
    "Next we will create a confusion matrix to look at the performance of the model\n",
    "\n",
    "The ideas related to classification metrics, confusion matrices and ROC curves are all discussed in Geron,  Chapter 3\n",
    "\n",
    "https://learning.oreilly.com/library/view/hands-on-machine-learning/9781492032632/ch03.html#idm45022187098104\n",
    "\n",
    "There is another discussion in Provost and Fawcett that is very business oriented\n",
    "\n",
    "https://learning.oreilly.com/library/view/data-science-for/9781449374273/ch08.html#eightdot4_the_area_under_the_roc_curve_l\n",
    "\n",
    "\n",
    "A confusion matrix shows the correct label (y) and the predicted category as labels on a matrix, so we can see what types of mistakes the classifier is making and how many\n",
    "\n",
    "The columns are the predictions,   rows are the actual correct classes\n",
    "\n",
    "          Prediction        \n",
    "actual       {5}                 {not 5}\n",
    "  {5}     | True Positives    False Negative |\n",
    " {not 5}  | False Positive    True Negative  |\n"
   ]
  },
  {
   "cell_type": "code",
   "execution_count": 22,
   "metadata": {},
   "outputs": [
    {
     "data": {
      "text/plain": [
       "array([[54358,   221],\n",
       "       [  273,  5148]], dtype=int64)"
      ]
     },
     "execution_count": 22,
     "metadata": {},
     "output_type": "execute_result"
    }
   ],
   "source": [
    "from sklearn.metrics import confusion_matrix\n",
    "\n",
    "confusion_matrix(y_train_5,y_train_pred)\n"
   ]
  },
  {
   "cell_type": "markdown",
   "metadata": {},
   "source": [
    "What is the fraction of correct classifications?"
   ]
  },
  {
   "cell_type": "code",
   "execution_count": 23,
   "metadata": {},
   "outputs": [
    {
     "name": "stdout",
     "output_type": "stream",
     "text": [
      "0.9917666666666667\n"
     ]
    }
   ],
   "source": [
    "n_correct = sum(y_train_pred == y_train_5)\n",
    "print(n_correct / len(y_train_pred)) "
   ]
  },
  {
   "cell_type": "code",
   "execution_count": 24,
   "metadata": {},
   "outputs": [
    {
     "name": "stdout",
     "output_type": "stream",
     "text": [
      "0.9588377723970944\n",
      "0.9496402877697842\n"
     ]
    }
   ],
   "source": [
    "from sklearn.metrics import precision_score, recall_score\n",
    "\n",
    "#TP- True positive,   a positive y classed as positive\n",
    "#FP- False positive,  a negative y classed as a positive\n",
    "\n",
    "#FN  -False negative,   a positive y classed as negative\n",
    "#T   -True negative,    a negative classed as a negative\n",
    "\n",
    "\n",
    "\n",
    "# Precision = TP/(FP+TP)\n",
    "print(precision_score(y_train_5, y_train_pred))\n",
    "\n",
    "#recall,   TP/(TP+FN)\n",
    "print(recall_score(y_train_5, y_train_pred))"
   ]
  },
  {
   "cell_type": "markdown",
   "metadata": {},
   "source": [
    "In your one words,  what is Precision?  What is recall?   "
   ]
  },
  {
   "cell_type": "markdown",
   "metadata": {},
   "source": [
    "{Fill your answer in here to the question right above}"
   ]
  },
  {
   "cell_type": "markdown",
   "metadata": {},
   "source": [
    " ## Part 3:  More advanced ideas on describing classifier behavior\n"
   ]
  },
  {
   "cell_type": "markdown",
   "metadata": {},
   "source": [
    "We can plot precision and recall as a function of the Threshold\n",
    "\n",
    "The output of the classifier as a probability value allows us to decide which category to assign each specimen.\n",
    "\n",
    "We would state a classification rule such as:\n",
    "\n",
    "If probability of class 1 for a specimen is greater than the threshold level,  assign the specimen to class 1,  if not assign\n",
    "it to class 2.\n",
    "\n",
    "Changing the threshold value alters the number of TP, FP, TN an FN results we will see and thus \n",
    "the precision and recall.\n",
    "\n",
    "Plotting precision and recall is helpful in understanding the model behavior"
   ]
  },
  {
   "cell_type": "code",
   "execution_count": 25,
   "metadata": {
    "scrolled": true
   },
   "outputs": [],
   "source": [
    "y_scores = cross_val_predict(silent_clf, X_train, y_train_5, cv=3,\n",
    "                             method=\"predict_proba\")"
   ]
  },
  {
   "cell_type": "code",
   "execution_count": 26,
   "metadata": {},
   "outputs": [],
   "source": [
    "from sklearn.metrics import precision_recall_curve\n",
    "\n",
    "precisions, recalls, thresholds = precision_recall_curve(y_train_5, y_scores[:,1])"
   ]
  },
  {
   "cell_type": "code",
   "execution_count": 27,
   "metadata": {},
   "outputs": [
    {
     "name": "stdout",
     "output_type": "stream",
     "text": [
      "[0.09309474 0.09307917 0.09308077 ... 0.99849699 0.99841772 1.        ]\n"
     ]
    }
   ],
   "source": [
    "print(precisions)"
   ]
  },
  {
   "cell_type": "markdown",
   "metadata": {},
   "source": [
    "This is a precision-recall curve"
   ]
  },
  {
   "cell_type": "code",
   "execution_count": 28,
   "metadata": {
    "scrolled": true
   },
   "outputs": [
    {
     "data": {
      "image/png": "[encoded data removed]",
      "text/plain": [
       "<Figure size 640x480 with 1 Axes>"
      ]
     },
     "metadata": {},
     "output_type": "display_data"
    }
   ],
   "source": [
    "def plot_precision_recall_vs_threshold(precisions, recalls, thresholds):\n",
    "    plt.plot(thresholds, precisions[:-1], \"b--\", label=\"Precision\")\n",
    "    plt.plot(thresholds, recalls[:-1], \"g-\", label=\"Recall\")\n",
    "    plt.legend()\n",
    "    plt.grid()\n",
    "    plt.ylabel(\"precsion/recall\")\n",
    "    plt.xlabel(\"Threshold\")\n",
    "    [...] # highlight the threshold and add the legend, axis label, and grid\n",
    "\n",
    "plot_precision_recall_vs_threshold(precisions, recalls, thresholds)\n",
    "plt.show()"
   ]
  },
  {
   "cell_type": "markdown",
   "metadata": {},
   "source": [
    "### The receiver-operator curve\n",
    "\n",
    "This works great for binary classifiers such as this one\n",
    "\n",
    "It plots the TP rate verses the FP rate,  both are altered by changing the threshold level.\n",
    "\n",
    "In a perfect model,  changing the thresshold will have no effect on the outputs, and the area under the RC curve will be 1.\n",
    "\n",
    "For a random classification,  p=0.5 for all models, and we get the dashed line in the plot, and an area under the curve of 0.5\n",
    "\n",
    "Here's what this looks like"
   ]
  },
  {
   "cell_type": "code",
   "execution_count": 29,
   "metadata": {},
   "outputs": [],
   "source": [
    "from sklearn.metrics import roc_curve\n",
    "\n",
    "fpr, tpr, thresholds = roc_curve(y_train_5, y_scores[:,1])"
   ]
  },
  {
   "cell_type": "code",
   "execution_count": 30,
   "metadata": {
    "scrolled": true
   },
   "outputs": [
    {
     "data": {
      "image/png": "[encoded data removed]",
      "text/plain": [
       "<Figure size 640x480 with 1 Axes>"
      ]
     },
     "metadata": {},
     "output_type": "display_data"
    }
   ],
   "source": [
    "def plot_roc_curve(fpr, tpr, label=None):\n",
    "    plt.plot(fpr, tpr, linewidth=2, label=\"ML Model\")\n",
    "    plt.plot([0, 1], [0, 1], 'k--',label=\"Chance\") # Dashed diagonal\n",
    "    plt.legend() # Add axis labels and grid\n",
    "    plt.grid()\n",
    "    plt.ylabel(\"True Positive Rate\")\n",
    "    plt.xlabel(\"False Positive Rate\")\n",
    "\n",
    "plot_roc_curve(fpr, tpr)\n",
    "plt.show()"
   ]
  },
  {
   "cell_type": "markdown",
   "metadata": {},
   "source": [
    "This is a really impressive ROC curve, there is a tiny rounding area in the upper right corner, that indicates some reduction\n",
    "in the True Positive Rate when the False Positive rate is zero."
   ]
  },
  {
   "cell_type": "code",
   "execution_count": 31,
   "metadata": {},
   "outputs": [
    {
     "data": {
      "text/plain": [
       "0.9969047471517984"
      ]
     },
     "execution_count": 31,
     "metadata": {},
     "output_type": "execute_result"
    }
   ],
   "source": [
    "from sklearn.metrics import roc_auc_score\n",
    "roc_auc_score(y_train_5, y_scores[:,1])"
   ]
  },
  {
   "cell_type": "markdown",
   "metadata": {},
   "source": [
    "# 4 Final Step:  evaluate the performance of your best model using the Test Data\n",
    "\n",
    "Now let's look at the actual test set- this should be the last step in an analysis!\n",
    "\n",
    "When you have the final model chosen, and you have optimized it and studied it and thrashed the living tar out of the input step,  you want to test that final model against the test data,  which you have never really looked at.\n",
    "\n",
    "You only meet a test set for the first time once.   It is only \"new\" data once.   Remember that after you look at data, you are in an a-posteriori world,   not the a-priori world of new data.   (Remember the Monte Hall problem?).\n",
    "\n",
    "So,  a test set is only useable once.   After that,  it could be training data, but never truly test data again."
   ]
  },
  {
   "cell_type": "markdown",
   "metadata": {},
   "source": [
    "### Overfitting and Underfitting\n",
    "\n",
    "If your model is too simple,  it doesn't make full use of the information in the predictors X and has less than ideal peformance.   Your model has prediction bias, since it misses important features of the data\n",
    "\n",
    "If your model is too complex,  it tries to be two precise or detailed for what you know about the data (ie you drew a regression line through all the points on a graph).   THis is called a prediction variance.\n",
    "\n",
    "You want a model in the sweet spot between prediction and variance.\n"
   ]
  },
  {
   "cell_type": "markdown",
   "metadata": {},
   "source": [
    "Predict on the X-test set (only once!) and then characterize performance"
   ]
  },
  {
   "cell_type": "code",
   "execution_count": 32,
   "metadata": {
    "scrolled": true
   },
   "outputs": [],
   "source": [
    "pred_test=clf.predict(X_test)"
   ]
  },
  {
   "cell_type": "code",
   "execution_count": 33,
   "metadata": {},
   "outputs": [],
   "source": [
    "pred_test_prob=clf.predict_proba(X_test)"
   ]
  },
  {
   "cell_type": "code",
   "execution_count": 34,
   "metadata": {},
   "outputs": [
    {
     "data": {
      "text/plain": [
       "array([[9082,   26],\n",
       "       [  41,  851]], dtype=int64)"
      ]
     },
     "execution_count": 34,
     "metadata": {},
     "output_type": "execute_result"
    }
   ],
   "source": [
    "confusion_matrix(y_test_5, pred_test)"
   ]
  },
  {
   "cell_type": "code",
   "execution_count": 35,
   "metadata": {},
   "outputs": [
    {
     "name": "stdout",
     "output_type": "stream",
     "text": [
      "0.9933\n"
     ]
    }
   ],
   "source": [
    "n_correct = sum(y_test_5 == pred_test)\n",
    "print(n_correct / len(y_test_5)) "
   ]
  },
  {
   "cell_type": "code",
   "execution_count": 36,
   "metadata": {},
   "outputs": [],
   "source": [
    "fpr, tpr, thresholds = roc_curve(y_test_5, pred_test_prob[:,1])"
   ]
  },
  {
   "cell_type": "code",
   "execution_count": 37,
   "metadata": {},
   "outputs": [
    {
     "data": {
      "image/png": "[encoded data removed]",
      "text/plain": [
       "<Figure size 640x480 with 1 Axes>"
      ]
     },
     "metadata": {},
     "output_type": "display_data"
    }
   ],
   "source": [
    "plot_roc_curve(fpr, tpr)\n",
    "plt.show()"
   ]
  },
  {
   "cell_type": "code",
   "execution_count": 38,
   "metadata": {},
   "outputs": [
    {
     "data": {
      "text/plain": [
       "0.9969047471517984"
      ]
     },
     "execution_count": 38,
     "metadata": {},
     "output_type": "execute_result"
    }
   ],
   "source": [
    "roc_auc_score(y_train_5, y_scores[:,1])"
   ]
  },
  {
   "cell_type": "markdown",
   "metadata": {},
   "source": [
    "# Questions\n",
    "\n",
    "Is there any evidence of overfitting here?  \n",
    "\n",
    "How could we look for signs of bias?"
   ]
  },
  {
   "cell_type": "markdown",
   "metadata": {},
   "source": [
    "## Coming up on the homework\n",
    "\n",
    "1.) Use the cells of this example notebook to create a new classifier that uses all ten image classes,  meaning using y_train\n",
    "rather than y_train_5.   This is a multiple category classifier rather than a binary classifier.\n",
    "\n",
    "You may want to increase the number of neurons in the model.\n",
    "\n",
    "Use the accuracy, precision and recall calculations, but not the ROC plot or the precision vs recall plots,  those don't work \n",
    "for multiple category models.    Do calculate and look at the confusion matrix\n",
    "\n",
    "2.) Load the MNIST Fashion data set, which is a tougher problem.   It is as set of black and white images of pieces of clothing\n",
    "\n",
    "\n",
    "These are 28 x 28 greyscale images,  just as we saw above\n",
    "\n",
    "Build a neural net classifier for this data set,attempt to optimize it and describe the performance as above.   Start with a\n",
    "binary classifier to try to detect one particular clothing item,  then go on to try to classify using all ten categories"
   ]
  },
  {
   "cell_type": "code",
   "execution_count": null,
   "metadata": {},
   "outputs": [],
   "source": []
  }
 ],
 "metadata": {
  "kernelspec": {
   "display_name": "Python 3 (ipykernel)",
   "language": "python",
   "name": "python3"
  },
  "language_info": {
   "codemirror_mode": {
    "name": "ipython",
    "version": 3
   },
   "file_extension": ".py",
   "mimetype": "text/x-python",
   "name": "python",
   "nbconvert_exporter": "python",
   "pygments_lexer": "ipython3",
   "version": "3.7.13"
  }
 },
 "nbformat": 4,
 "nbformat_minor": 4
}
